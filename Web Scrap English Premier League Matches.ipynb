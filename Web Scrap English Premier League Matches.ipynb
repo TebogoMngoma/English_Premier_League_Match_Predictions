{
 "cells": [
  {
   "cell_type": "markdown",
   "id": "7a22f5b9",
   "metadata": {},
   "source": [
    "# English Premier League\n",
    "\n",
    "![Image](tile-premier-league-mar.jpg)\n",
    "\n",
    "The Premier League is the highest level of the English football league system. Contested by 20 clubs, it operates on a system of promotion and relegation with the English Football League (EFL). Seasons typically run from August to May with each team playing 38 matches against all other teams both home and away. Most games are played on Saturday and Sunday afternoons, with occasional weekday evening fixtures.\n",
    "\n",
    "We are going to attend to retrieve data of the latest EPL season using Webscraping and feed our data into a Machine Learning Model to predict the matches of each Team . The Packages which will be used to scrape data of the internet is called **Beautiful Soup** . Beautiful Soup is a Python library that is used for web scraping and parsing HTML or XML documents. It provides a convenient way to extract data from web pages by traversing the HTML or XML structure and locating specific elements or attributes."
   ]
  },
  {
   "cell_type": "markdown",
   "id": "2a6cbee6",
   "metadata": {},
   "source": [
    "### Web Scraping tools/packages to find our data  "
   ]
  },
  {
   "cell_type": "code",
   "execution_count": null,
   "id": "7cd72c05",
   "metadata": {},
   "outputs": [],
   "source": [
    "import requests\n",
    "from bs4 import BeautifulSoup\n",
    "import pandas as pd"
   ]
  },
  {
   "cell_type": "code",
   "execution_count": null,
   "id": "07d1f1c0",
   "metadata": {},
   "outputs": [],
   "source": [
    "# get the link of the EPL stats which we will convert to a pandas DataFrame\n",
    "standings_url = \"https://fbref.com/en/comps/9/Premier-League-Stats\""
   ]
  },
  {
   "cell_type": "code",
   "execution_count": null,
   "id": "3f5364de",
   "metadata": {},
   "outputs": [],
   "source": [
    "epl_data = requests.get(standings_url)"
   ]
  },
  {
   "cell_type": "markdown",
   "id": "3a0f7e10",
   "metadata": {},
   "source": [
    "## Parse HTML links using BeautifulSoup"
   ]
  },
  {
   "cell_type": "code",
   "execution_count": null,
   "id": "d3eeffbb",
   "metadata": {},
   "outputs": [],
   "source": [
    "soup = BeautifulSoup(epl_data.text)"
   ]
  },
  {
   "cell_type": "code",
   "execution_count": null,
   "id": "82b54a12",
   "metadata": {},
   "outputs": [],
   "source": [
    "league_standing = soup.select('table.stats_table')"
   ]
  },
  {
   "cell_type": "code",
   "execution_count": null,
   "id": "b0bc6170",
   "metadata": {},
   "outputs": [],
   "source": [
    "team_links = league_standing.find_all('a')"
   ]
  },
  {
   "cell_type": "code",
   "execution_count": null,
   "id": "1ce966bf",
   "metadata": {},
   "outputs": [],
   "source": [
    "team_links = [l.get(\"href\") for l in team_links]"
   ]
  },
  {
   "cell_type": "code",
   "execution_count": null,
   "id": "33bcf95d",
   "metadata": {},
   "outputs": [],
   "source": [
    "team_links = [l for l in team_links if '/squads/' in l]"
   ]
  },
  {
   "cell_type": "code",
   "execution_count": null,
   "id": "82bb92ca",
   "metadata": {},
   "outputs": [],
   "source": [
    "team_url = [f\"https://fbref.com{l}\" for l in team_links]"
   ]
  },
  {
   "cell_type": "markdown",
   "id": "61df16f7",
   "metadata": {},
   "source": [
    "## Extract Each Match Stats Using Pandas and Requests"
   ]
  },
  {
   "cell_type": "code",
   "execution_count": null,
   "id": "a7e97046",
   "metadata": {},
   "outputs": [],
   "source": [
    "#let's extract the team url for the first team on the table\n",
    "team_url = team_url[0]"
   ]
  },
  {
   "cell_type": "code",
   "execution_count": null,
   "id": "e439a493",
   "metadata": {},
   "outputs": [],
   "source": [
    "#We can see that the first team on the table Man City \n",
    "team_url"
   ]
  },
  {
   "cell_type": "code",
   "execution_count": null,
   "id": "83bd2df6",
   "metadata": {},
   "outputs": [],
   "source": [
    "epl_data = requests.get(team_url)"
   ]
  },
  {
   "cell_type": "code",
   "execution_count": null,
   "id": "62b042ad",
   "metadata": {},
   "outputs": [],
   "source": [
    "#Let's get all of Man City's 2022/2023 MP results\n",
    "matches_played = pd.read_html(epl_data.text , match=\"Scores & Fixtures\")"
   ]
  },
  {
   "cell_type": "code",
   "execution_count": null,
   "id": "0b993833",
   "metadata": {},
   "outputs": [],
   "source": [
    "matches_played[0].head()"
   ]
  },
  {
   "cell_type": "markdown",
   "id": "f7ba58a0",
   "metadata": {},
   "source": [
    "## Get Match Shooting stats using Beautiful Soup"
   ]
  },
  {
   "cell_type": "code",
   "execution_count": null,
   "id": "3ef1292b",
   "metadata": {},
   "outputs": [],
   "source": [
    "soup = BeautifulSoup(epl_data.text)"
   ]
  },
  {
   "cell_type": "code",
   "execution_count": null,
   "id": "44f1895f",
   "metadata": {},
   "outputs": [],
   "source": [
    "#get links for the shooting stats\n",
    "links = soup.find_all('a')"
   ]
  },
  {
   "cell_type": "code",
   "execution_count": null,
   "id": "2e536917",
   "metadata": {},
   "outputs": [],
   "source": [
    "links = [l.get(\"href\") for l in links]"
   ]
  },
  {
   "cell_type": "code",
   "execution_count": null,
   "id": "f24a3257",
   "metadata": {},
   "outputs": [],
   "source": [
    "links = [l for l in links if l and 'all_comps/shooting/' in l]"
   ]
  },
  {
   "cell_type": "code",
   "execution_count": null,
   "id": "523e3465",
   "metadata": {},
   "outputs": [],
   "source": [
    "epl_data = requests.get(f\"https://fbref.com{links[0]}\")"
   ]
  },
  {
   "cell_type": "code",
   "execution_count": null,
   "id": "5e705c37",
   "metadata": {},
   "outputs": [],
   "source": [
    "shooting = pd.read_html(epl_data.text ,match=\"Shooting\")[0]"
   ]
  },
  {
   "cell_type": "code",
   "execution_count": null,
   "id": "285e6701",
   "metadata": {},
   "outputs": [],
   "source": [
    "shooting.head()"
   ]
  },
  {
   "cell_type": "markdown",
   "id": "58729fdc",
   "metadata": {},
   "source": [
    "## Clean and Merge scapped data"
   ]
  },
  {
   "cell_type": "code",
   "execution_count": null,
   "id": "a32fb49e",
   "metadata": {},
   "outputs": [],
   "source": [
    "shooting.columns = shooting.columns.droplevel()"
   ]
  },
  {
   "cell_type": "code",
   "execution_count": null,
   "id": "81ca3f5b",
   "metadata": {},
   "outputs": [],
   "source": [
    "shooting"
   ]
  },
  {
   "cell_type": "code",
   "execution_count": null,
   "id": "15c48f4f",
   "metadata": {},
   "outputs": [],
   "source": [
    "# Let's compine the Matches played and shooting tables to get a more detailded match table\n",
    "match_table = pd.concat([matches_played[0], shooting], axis=1, join='inner')"
   ]
  },
  {
   "cell_type": "code",
   "execution_count": null,
   "id": "98e0287b",
   "metadata": {},
   "outputs": [],
   "source": [
    "match_table.info()"
   ]
  },
  {
   "cell_type": "markdown",
   "id": "e2480566",
   "metadata": {},
   "source": [
    "### Scraping Data for Multiple Seasons from 2013 to 2023"
   ]
  },
  {
   "cell_type": "code",
   "execution_count": null,
   "id": "43c2d7eb",
   "metadata": {},
   "outputs": [],
   "source": [
    "years = list(range(2022, 2020, -1))"
   ]
  },
  {
   "cell_type": "code",
   "execution_count": null,
   "id": "6a20dde7",
   "metadata": {},
   "outputs": [],
   "source": [
    "years"
   ]
  },
  {
   "cell_type": "code",
   "execution_count": null,
   "id": "b947d642",
   "metadata": {},
   "outputs": [],
   "source": [
    "all_matches = []"
   ]
  },
  {
   "cell_type": "code",
   "execution_count": null,
   "id": "ee2c2977",
   "metadata": {},
   "outputs": [],
   "source": [
    "standings_url = \"https://fbref.com/en/comps/9/Premier-League-Stats\""
   ]
  },
  {
   "cell_type": "code",
   "execution_count": null,
   "id": "ec80ddf4",
   "metadata": {},
   "outputs": [],
   "source": [
    "for year in years:\n",
    "    epl_data = requests.get(standings_url)\n",
    "    soup = BeautifulSoup(epl_data.text)\n",
    "    league_standing = soup.select('table.stats_table')[0]\n",
    "    team_links = [l.get(\"href\") for l in league_standing.find_all(' a')]\n",
    "    team_links = [l for l in links if '/squads/' in l]\n",
    "    team_url = [f\"https://fbref.com{l}\" for l in team_links]\n",
    "    previous_season = soup.select(\"a.prev\")[0].get(\"href\")\n",
    "    standings_url = f\"https://fbref.com{previous_season}\"\n",
    "    \n",
    "    for t_url in team_url:\n",
    "        team_name = t_url.split(\"/\")[-1].replace(\"-Stats\",\"\").replace(\"-\",\" \")\n",
    "        epl_data = requests.get(t_url)\n",
    "        matches_played = pd.read_html(epl_data.text, match=\"Scores & Fixtures\")[0]\n",
    "        soup = BeautifulSoup(epl_data.text)\n",
    "        team_links = [l.get(\"href\") for l in soup.find_all(\"a\")]\n",
    "        team_links = [l for l in links if l and 'all_comps/shooting' in l]\n",
    "        epl_data = requests.get(f\"https://fbref.com{team_links[0]}\")\n",
    "        shooting = pd.read_html(epl_data ,match=\"Shooting\")[0]\n",
    "        shooting.columns = shooting.columns.droplevel()\n",
    "        \n",
    "        try:\n",
    "            match_table = pd.concat([matches_played[0], shooting], axis=1, join='inner')\n",
    "        except ValueError:\n",
    "            continue\n",
    "        match_table = match_table[match_table[\"Comp\"] == \"Premier League\"]\n",
    "        match_table[\"Season\"] = year\n",
    "        match_table[\"Team\"] = team_name\n",
    "        all_matches.append(match_table)\n"
   ]
  },
  {
   "cell_type": "code",
   "execution_count": null,
   "id": "97466723",
   "metadata": {},
   "outputs": [],
   "source": [
    "match_df = pd.concat(all_matches)\n",
    "matches_df.columns = [c.lower() for c in match_df.columns]"
   ]
  },
  {
   "cell_type": "code",
   "execution_count": null,
   "id": "8eaa0b5e",
   "metadata": {},
   "outputs": [],
   "source": [
    "match_df.to_csv(\"matches.csv\")"
   ]
  }
 ],
 "metadata": {
  "kernelspec": {
   "display_name": "Python 3 (ipykernel)",
   "language": "python",
   "name": "python3"
  },
  "language_info": {
   "codemirror_mode": {
    "name": "ipython",
    "version": 3
   },
   "file_extension": ".py",
   "mimetype": "text/x-python",
   "name": "python",
   "nbconvert_exporter": "python",
   "pygments_lexer": "ipython3",
   "version": "3.9.12"
  }
 },
 "nbformat": 4,
 "nbformat_minor": 5
}
